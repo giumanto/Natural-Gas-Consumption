{
 "cells": [
  {
   "cell_type": "markdown",
   "metadata": {},
   "source": [
    "### Natural Gas Consumption Data by sector\n",
    "- source: https://www.eia.gov/totalenergy/data/browser/csv.php?tbl=T04.03\n",
    "- move csv file to current working directory and rename it as \"NG Consumption.csv\""
   ]
  },
  {
   "cell_type": "code",
   "execution_count": 175,
   "metadata": {},
   "outputs": [],
   "source": [
    "import pandas as pd\n",
    "import numpy as np\n",
    "\n",
    "df = pd.read_csv(\"NG Consumption.csv\")"
   ]
  },
  {
   "cell_type": "code",
   "execution_count": 177,
   "metadata": {},
   "outputs": [
    {
     "data": {
      "text/plain": [
       "array(['Natural Gas Consumed by the Residential Sector',\n",
       "       'Natural Gas Consumed by the Commercial Sector',\n",
       "       'Natural Gas Consumed by the Industrial Sector, Lease and Plant Fuel',\n",
       "       'Natural Gas Consumed by the Other Industrial Sector, CHP',\n",
       "       'Natural Gas Consumed by the Other Industrial Sector, Non-CHP',\n",
       "       'Natural Gas Consumed by the Other Industrial Sector, Total',\n",
       "       'Natural Gas Consumed by the Industrial Sector, Total',\n",
       "       'Natural Gas Consumed by the Transportation Sector, Pipelines and Distribution',\n",
       "       'Natural Gas Consumed by the Transportation Sector, Vehicle Fuel',\n",
       "       'Natural Gas Consumed by the Transportation Sector, Total',\n",
       "       'Natural Gas Consumed by the Electric Power Sector',\n",
       "       'Natural Gas Consumption, Total'], dtype=object)"
      ]
     },
     "execution_count": 177,
     "metadata": {},
     "output_type": "execute_result"
    }
   ],
   "source": [
    "df['Description'].unique()"
   ]
  },
  {
   "cell_type": "code",
   "execution_count": 4,
   "metadata": {},
   "outputs": [],
   "source": [
    "def prep_gretl(q, descr, filename, suffix='', index_freq='MS', start_date = '2005-01-01', end_date = '2020-01-01'):\n",
    "    \n",
    "    # Description\n",
    "    df = q.query(f'Description == \"{descr}\"').copy()\n",
    "    \n",
    "    # Date Index\n",
    "    df.loc[:,'YYYYMM'] = df['YYYYMM'].astype(str).copy()\n",
    "    to_drop = df['YYYYMM'].apply(lambda x: x.endswith('13'))\n",
    "    df = df[~to_drop].copy()\n",
    "    df.reset_index(inplace=True, drop=True)\n",
    "    df['YYYYMM'] = pd.to_datetime(df['YYYYMM'], format='%Y%m').copy()\n",
    "    df.set_index('YYYYMM', inplace=True)\n",
    "    df.index.freq = index_freq\n",
    "    \n",
    "    # Filter\n",
    "    filtered_mask = (df.index < end_date) & (df.index >= start_date)\n",
    "    df_filtered = df[filtered_mask]\n",
    "    \n",
    "    # Fixing dtype\n",
    "    df_filtered.loc[:,'Value'] =  df_filtered.loc[:,'Value'].astype(float).copy()\n",
    "    \n",
    "    # Exporting\n",
    "    gretl = df_filtered.loc[:,'Value'].rename('Value_'+suffix)\\\n",
    "                                      .reset_index(drop=True)\n",
    "    gretl.to_excel(f'{filename}_{suffix}.xls', index=False)\n",
    "    \n",
    "    return df_filtered.loc[:,'Value'].rename('Value_'+suffix)"
   ]
  },
  {
   "cell_type": "code",
   "execution_count": 180,
   "metadata": {},
   "outputs": [
    {
     "name": "stderr",
     "output_type": "stream",
     "text": [
      "C:\\Users\\giuma\\anaconda3\\lib\\site-packages\\pandas\\core\\indexing.py:966: SettingWithCopyWarning: \n",
      "A value is trying to be set on a copy of a slice from a DataFrame.\n",
      "Try using .loc[row_indexer,col_indexer] = value instead\n",
      "\n",
      "See the caveats in the documentation: https://pandas.pydata.org/pandas-docs/stable/user_guide/indexing.html#returning-a-view-versus-a-copy\n",
      "  self.obj[item] = s\n"
     ]
    }
   ],
   "source": [
    "sfx1 = \"industrial\"\n",
    "df1_prep = prep_gretl(df, 'Natural Gas Consumed by the Industrial Sector, Total', 'Series1', sfx1)\n",
    "\n",
    "sfx2 = \"transportation\"\n",
    "df2_prep = prep_gretl(df, 'Natural Gas Consumed by the Transportation Sector, Total', 'Series2', sfx2)\n",
    "\n",
    "sfx3 = \"total\"\n",
    "df3_prep = prep_gretl(df, 'Natural Gas Consumption, Total', 'Series3', sfx3)\n"
   ]
  },
  {
   "cell_type": "code",
   "execution_count": 182,
   "metadata": {},
   "outputs": [],
   "source": [
    "df_ensembled = pd.concat([df1_prep, df2_prep, df3_prep], axis = 1)\n",
    "df_ensembled.to_excel('df_ensembled.xls', index=False)"
   ]
  }
 ],
 "metadata": {
  "kernelspec": {
   "display_name": "Python 3",
   "language": "python",
   "name": "python3"
  },
  "language_info": {
   "codemirror_mode": {
    "name": "ipython",
    "version": 3
   },
   "file_extension": ".py",
   "mimetype": "text/x-python",
   "name": "python",
   "nbconvert_exporter": "python",
   "pygments_lexer": "ipython3",
   "version": "3.7.6"
  }
 },
 "nbformat": 4,
 "nbformat_minor": 4
}